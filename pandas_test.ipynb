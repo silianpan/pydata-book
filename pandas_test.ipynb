{
 "cells": [
  {
   "cell_type": "code",
   "execution_count": 17,
   "metadata": {},
   "outputs": [
    {
     "name": "stdout",
     "output_type": "stream",
     "text": [
      "<class 'pandas.core.series.Series'>\n",
      "0    张三\n",
      "1    李四\n",
      "2    王五\n",
      "3    赵六\n",
      "4    孙七\n",
      "dtype: object\n",
      "a    张三\n",
      "b    李四\n",
      "c    王五\n",
      "d    赵六\n",
      "e    孙七\n",
      "dtype: object\n",
      "names    [张三, 李四, 王五, 赵六, 孙七]\n",
      "ages     [10, 20, 15, 40, 32]\n",
      "dtype: object\n"
     ]
    },
    {
     "data": {
      "text/plain": [
       "0    {'name': '张三', 'age': 10}\n",
       "1    {'name': '李四', 'age': 20}\n",
       "2    {'name': '王五', 'age': 15}\n",
       "3    {'name': '赵六', 'age': 40}\n",
       "4    {'name': '孙七', 'age': 32}\n",
       "dtype: object"
      ]
     },
     "execution_count": 17,
     "metadata": {},
     "output_type": "execute_result"
    }
   ],
   "source": [
    "# Series用法\n",
    "\n",
    "# 引入pandas\n",
    "import pandas as pd\n",
    "\n",
    "'''\n",
    "创建一个Series对象\n",
    "1. Series对象一维数组，默认的索引（下标）从0~n-1（n：列表大小）\n",
    "2. 如果传递列表字典参数，字典所有的key作为索引\n",
    "'''\n",
    "# 1. 传递一个单项列表\n",
    "names = pd.Series(['张三', '李四', '王五', '赵六', '孙七'])\n",
    "print(type(names))\n",
    "print(names)\n",
    "# 1.1 更改索引\n",
    "names = pd.Series(['张三', '李四', '王五', '赵六', '孙七'], index=['a', 'b', 'c', 'd', 'e'])\n",
    "print(names)\n",
    "\n",
    "# 2. 传递一个列表字典\n",
    "name_dict = pd.Series({\n",
    "    'names': ['张三', '李四', '王五', '赵六', '孙七'],\n",
    "    'ages': [10, 20, 15, 40, 32]\n",
    "})\n",
    "print(name_dict)\n",
    "\n",
    "# 3. 传递一个字典列表\n",
    "name_dict_list = pd.Series([\n",
    "    {\n",
    "        'name': '张三',\n",
    "        'age': 10\n",
    "    },\n",
    "    {\n",
    "        'name': '李四',\n",
    "        'age': 20\n",
    "    },\n",
    "    {\n",
    "        'name': '王五',\n",
    "        'age': 15\n",
    "    },\n",
    "    {\n",
    "        'name': '赵六',\n",
    "        'age': 40\n",
    "    },\n",
    "    {\n",
    "        'name': '孙七',\n",
    "        'age': 32\n",
    "    }\n",
    "])\n",
    "name_dict_list"
   ]
  },
  {
   "cell_type": "code",
   "execution_count": null,
   "metadata": {},
   "outputs": [],
   "source": []
  }
 ],
 "metadata": {
  "kernelspec": {
   "display_name": "Python 3",
   "language": "python",
   "name": "python3"
  },
  "language_info": {
   "codemirror_mode": {
    "name": "ipython",
    "version": 3
   },
   "file_extension": ".py",
   "mimetype": "text/x-python",
   "name": "python",
   "nbconvert_exporter": "python",
   "pygments_lexer": "ipython3",
   "version": "3.7.2"
  }
 },
 "nbformat": 4,
 "nbformat_minor": 2
}
