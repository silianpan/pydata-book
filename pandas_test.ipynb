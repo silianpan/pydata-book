{
 "cells": [
  {
   "cell_type": "markdown",
   "metadata": {},
   "source": [
    "## Series"
   ]
  },
  {
   "cell_type": "code",
   "execution_count": 89,
   "metadata": {},
   "outputs": [
    {
     "name": "stdout",
     "output_type": "stream",
     "text": [
      "0    张三\n",
      "1    李四\n",
      "2    王五\n",
      "3    赵六\n",
      "4    孙七\n",
      "dtype: object\n",
      "['张三' '李四' '王五' '赵六' '孙七']\n",
      "<class 'numpy.ndarray'>\n",
      "张三    12\n",
      "李四    23\n",
      "王五    34\n",
      "赵六    40\n",
      "dtype: int64\n"
     ]
    },
    {
     "data": {
      "text/plain": [
       "<matplotlib.axes._subplots.AxesSubplot at 0x12064ca90>"
      ]
     },
     "execution_count": 89,
     "metadata": {},
     "output_type": "execute_result"
    },
    {
     "name": "stderr",
     "output_type": "stream",
     "text": [
      "/Users/panliu/.local/share/virtualenvs/pydata-book-oZ7iJid9/lib/python3.7/site-packages/matplotlib/font_manager.py:1316: UserWarning: findfont: Font family ['sans-serif'] not found. Falling back to DejaVu Sans\n",
      "  (prop.get_family(), self.defaultFamily[fontext]))\n"
     ]
    },
    {
     "data": {
      "image/png": "[encoded data removed]",
      "text/plain": [
       "<matplotlib.figure.Figure at 0x11c0786d8>"
      ]
     },
     "metadata": {
      "needs_background": "light"
     },
     "output_type": "display_data"
    }
   ],
   "source": [
    "# Series用法\n",
    "\n",
    "# 引入pandas\n",
    "import pandas as pd\n",
    "import numpy as np\n",
    "\n",
    "from pylab import mpl\n",
    "\n",
    "#mpl.rcParams['font.sans-serif'] = ['SimHei']\n",
    "mpl.rcParams['font.sans-serif'] = ['Microsoft YaHei'] # 指定默认字体：解决plot不能显示中文问题\n",
    "mpl.rcParams['axes.unicode_minus'] = False\n",
    "\n",
    "'''\n",
    "创建一个Series对象\n",
    "1. Series对象一维数组，默认的索引（下标）从0~n-1（n：列表大小）\n",
    "2. 如果传递列表字典参数，字典所有的key作为索引\n",
    "'''\n",
    "\n",
    "# 1. Series对象\n",
    "# 1.1. 传递一个单项列表\n",
    "names = pd.Series(['张三', '李四', '王五', '赵六', '孙七'])\n",
    "# print(type(names))\n",
    "print(names)\n",
    "\n",
    "# 1.2 Series对象的名称\n",
    "names.name = '学生列表'\n",
    "names\n",
    "\n",
    "# 1.3 获取单个值\n",
    "names[2]\n",
    "\n",
    "# 1.4 获取多个值\n",
    "names[[1, 2]]\n",
    "\n",
    "# 1.5 获取所有的值\n",
    "print(names.values)\n",
    "print(type(names.values))\n",
    "\n",
    "# 1.6 过滤值列表\n",
    "names[names == '王五']\n",
    "\n",
    "# 1.7 计算\n",
    "scores = pd.Series([12, 23, 34, 40], index = ['张三', '李四', '王五', '赵六'])\n",
    "scores * 2\n",
    "print(scores)\n",
    "\n",
    "# 1.8 方法\n",
    "# 判断缺失值\n",
    "scores.isnull()\n",
    "scores.notnull()\n",
    "\n",
    "# 1.9 Series可视化，调用Series对象的函数plot\n",
    "'''\n",
    "kind: 图形类型，如bar图例\n",
    "rot：旋转角度\n",
    "figsize：图形宽高，单位英寸\n",
    "title: 图形标题\n",
    "xticks：x轴坐标的刻度\n",
    "yticks：y轴坐标的刻度\n",
    "xlim: x轴坐标范围\n",
    "ylim: y轴坐标范围\n",
    "style: 风格，如格式化字符串：g--,k--,b--,k-,b-\n",
    "'''\n",
    "scores.plot(rot=0, figsize=(10, 4), title='students',\n",
    "           ylim=[0, 100], yticks=np.arange(100), style='g--')"
   ]
  },
  {
   "cell_type": "code",
   "execution_count": 32,
   "metadata": {},
   "outputs": [
    {
     "name": "stdout",
     "output_type": "stream",
     "text": [
      "学号\n",
      "1    张三\n",
      "2    李四\n",
      "3    王五\n",
      "4    赵六\n",
      "5    孙七\n",
      "dtype: object\n"
     ]
    },
    {
     "data": {
      "text/plain": [
       "'学号'"
      ]
     },
     "execution_count": 32,
     "metadata": {},
     "output_type": "execute_result"
    }
   ],
   "source": [
    "# 2. 索引\n",
    "# 自定义索引\n",
    "names = pd.Series(['张三', '李四', '王五', '赵六', '孙七'], index=['a', 'b', 'c', 'd', 'e'])\n",
    "\n",
    "# 更改索引\n",
    "names.index = [1, 2, 3, 4, 5]\n",
    "\n",
    "# 获取索引\n",
    "names.index\n",
    "\n",
    "# 更改索引名称\n",
    "names.index.name = '学号'\n",
    "print(names)\n",
    "\n",
    "# 获取索引名称\n",
    "names.index.name"
   ]
  },
  {
   "cell_type": "markdown",
   "metadata": {},
   "source": [
    "## DataFrame"
   ]
  },
  {
   "cell_type": "code",
   "execution_count": 140,
   "metadata": {},
   "outputs": [
    {
     "name": "stdout",
     "output_type": "stream",
     "text": [
      "<class 'pandas.core.series.Series'>\n",
      "<class 'pandas.core.series.Series'>\n"
     ]
    },
    {
     "data": {
      "text/html": [
       "<div>\n",
       "<style scoped>\n",
       "    .dataframe tbody tr th:only-of-type {\n",
       "        vertical-align: middle;\n",
       "    }\n",
       "\n",
       "    .dataframe tbody tr th {\n",
       "        vertical-align: top;\n",
       "    }\n",
       "\n",
       "    .dataframe thead th {\n",
       "        text-align: right;\n",
       "    }\n",
       "</style>\n",
       "<table border=\"1\" class=\"dataframe\">\n",
       "  <thead>\n",
       "    <tr style=\"text-align: right;\">\n",
       "      <th></th>\n",
       "      <th>yuwen</th>\n",
       "      <th>shuxue</th>\n",
       "      <th>yingyu</th>\n",
       "      <th>mean</th>\n",
       "    </tr>\n",
       "  </thead>\n",
       "  <tbody>\n",
       "    <tr>\n",
       "      <td>zhangsan</td>\n",
       "      <td>40</td>\n",
       "      <td>50</td>\n",
       "      <td>79</td>\n",
       "      <td>56.333333</td>\n",
       "    </tr>\n",
       "    <tr>\n",
       "      <td>lisi</td>\n",
       "      <td>70</td>\n",
       "      <td>86</td>\n",
       "      <td>96</td>\n",
       "      <td>84.000000</td>\n",
       "    </tr>\n",
       "    <tr>\n",
       "      <td>wangwu</td>\n",
       "      <td>65</td>\n",
       "      <td>56</td>\n",
       "      <td>87</td>\n",
       "      <td>69.333333</td>\n",
       "    </tr>\n",
       "    <tr>\n",
       "      <td>zhaoliu</td>\n",
       "      <td>45</td>\n",
       "      <td>78</td>\n",
       "      <td>54</td>\n",
       "      <td>59.000000</td>\n",
       "    </tr>\n",
       "  </tbody>\n",
       "</table>\n",
       "</div>"
      ],
      "text/plain": [
       "          yuwen  shuxue  yingyu       mean\n",
       "zhangsan     40      50      79  56.333333\n",
       "lisi         70      86      96  84.000000\n",
       "wangwu       65      56      87  69.333333\n",
       "zhaoliu      45      78      54  59.000000"
      ]
     },
     "execution_count": 140,
     "metadata": {},
     "output_type": "execute_result"
    },
    {
     "data": {
      "image/png": "[encoded data removed]",
      "text/plain": [
       "<matplotlib.figure.Figure at 0x1213275f8>"
      ]
     },
     "metadata": {
      "needs_background": "light"
     },
     "output_type": "display_data"
    }
   ],
   "source": [
    "# 创建DataFrame对象\n",
    "'''\n",
    "行：姓名；值：分数，列：学科\n",
    "         语文  数学 英语\n",
    "zhangsan 40    50   79\n",
    "lisi     70    86   96\n",
    "wangwu   65    56   87\n",
    "zhaoliu  45    78   54\n",
    "'''\n",
    "# 第一种创建方式：行为目标\n",
    "# 字典列表创建\n",
    "stu_df = pd.DataFrame([\n",
    "    {'yuwen': 40, 'shuxue': 50, 'yingyu': 79},\n",
    "    {'yuwen': 70, 'shuxue': 86, 'yingyu': 96},\n",
    "    {'yuwen': 65, 'shuxue': 56, 'yingyu': 87},\n",
    "    {'yuwen': 45, 'shuxue': 78, 'yingyu': 54}\n",
    "], index = ['zhangsan', 'lisi', 'wangwu', 'zhaoliu'])\n",
    "\n",
    "# 嵌套字典创建\n",
    "stu_df = pd.DataFrame({\n",
    "    'zhangsan': {'yuwen': 40, 'shuxue': 50, 'yingyu': 79},\n",
    "    'lisi': {'yuwen': 70, 'shuxue': 86, 'yingyu': 96},\n",
    "    'wangwu': {'yuwen': 65, 'shuxue': 56, 'yingyu': 87},\n",
    "    'zhaoliu': {'yuwen': 45, 'shuxue': 78, 'yingyu': 54}\n",
    "})\n",
    "\n",
    "# print(stu_df)\n",
    "\n",
    "# 第二种创建方式：列为目标\n",
    "stu_df2 = pd.DataFrame({\n",
    "    'yuwen': [40, 70, 65, 45],\n",
    "    'shuxue': [50, 86, 56, 78],\n",
    "    'yingyu': [79, 96, 87, 54]\n",
    "  },\n",
    "    index = ['zhangsan', 'lisi', 'wangwu', 'zhaoliu']\n",
    ")\n",
    "stu_df2\n",
    "\n",
    "stu_df2.plot(kind='bar', rot=0, title=\"student's score\")\n",
    "\n",
    "# 获取一列\n",
    "print(type(stu_df2['yuwen']))\n",
    "stu_df2['yuwen']\n",
    "\n",
    "# 获取一行\n",
    "print(type(stu_df2.loc['zhangsan']))\n",
    "stu_df2.loc['zhangsan']\n",
    "\n",
    "# 添加一列\n",
    "# 添加常数列\n",
    "# stu_df2['total'] = 100\n",
    "# 添加变化列\n",
    "# stu_df2['total'] = np.arange(4)\n",
    "# 添加计算列\n",
    "# axis: 指定行或列，1：行，0：列，默认值是0\n",
    "# stu_df2.mean(axis=1)\n",
    "\n",
    "# 将Series对象添加到列\n",
    "# stu_df2['total'] = stu_df2.sum(axis=1)\n",
    "stu_df2['mean'] = stu_df2.mean(axis=1)\n",
    "stu_df2\n"
   ]
  },
  {
   "cell_type": "code",
   "execution_count": null,
   "metadata": {},
   "outputs": [],
   "source": []
  },
  {
   "cell_type": "code",
   "execution_count": null,
   "metadata": {},
   "outputs": [],
   "source": []
  }
 ],
 "metadata": {
  "kernelspec": {
   "display_name": "Python 3",
   "language": "python",
   "name": "python3"
  },
  "language_info": {
   "codemirror_mode": {
    "name": "ipython",
    "version": 3
   },
   "file_extension": ".py",
   "mimetype": "text/x-python",
   "name": "python",
   "nbconvert_exporter": "python",
   "pygments_lexer": "ipython3",
   "version": "3.7.2"
  },
  "pycharm": {
   "stem_cell": {
    "cell_type": "raw",
    "metadata": {
     "collapsed": false
    },
    "source": []
   }
  }
 },
 "nbformat": 4,
 "nbformat_minor": 2
}
